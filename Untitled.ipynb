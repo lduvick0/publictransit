{
 "cells": [
  {
   "cell_type": "code",
   "execution_count": 1,
   "id": "c1180cdd-c1cb-4a60-af3d-46aff777f7d5",
   "metadata": {},
   "outputs": [],
   "source": [
    "import pandas as pd\n",
    "from sqlalchemy import create_engine\n",
    "from sqlalchemy.sql import text\n",
    "from datetime import datetime, date\n",
    "\n",
    "DB_NAME =\"PublicTransit\"\n",
    "DB_USER= \"postgres\"\n",
    "DB_PASS=\"L745tyZxvc.\"\n",
    "DB_HOST=\"localhost\"\n",
    "DB_PORT=\"5432\""
   ]
  },
  {
   "cell_type": "code",
   "execution_count": 2,
   "id": "5718a1a7-e9f6-47fb-ab9b-8eeaf0567ec4",
   "metadata": {},
   "outputs": [],
   "source": [
    "cta=pd.read_csv('CTA_-_Ridership_-_Daily_Boarding_Totals_20240307.csv')\n",
    "mta=pd.read_csv('MTA_Monthly_Ridership___Traffic_Data__Beginning_January_2008.csv')"
   ]
  },
  {
   "cell_type": "code",
   "execution_count": null,
   "id": "7cce01ea-ef8d-4ea2-963e-8f51c5fb8d63",
   "metadata": {},
   "outputs": [],
   "source": []
  }
 ],
 "metadata": {
  "kernelspec": {
   "display_name": "Python 3 (ipykernel)",
   "language": "python",
   "name": "python3"
  },
  "language_info": {
   "codemirror_mode": {
    "name": "ipython",
    "version": 3
   },
   "file_extension": ".py",
   "mimetype": "text/x-python",
   "name": "python",
   "nbconvert_exporter": "python",
   "pygments_lexer": "ipython3",
   "version": "3.11.5"
  }
 },
 "nbformat": 4,
 "nbformat_minor": 5
}
